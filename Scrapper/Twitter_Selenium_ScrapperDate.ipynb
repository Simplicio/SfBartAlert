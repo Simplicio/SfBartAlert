{
 "cells": [
  {
   "cell_type": "code",
   "execution_count": 3,
   "metadata": {
    "collapsed": false
   },
   "outputs": [],
   "source": [
    "#A script to use selenium to scrape Twitter for tweets for a particular search query and dates\n",
    "#Needs selenium to be installed\n",
    "\n",
    "#Adapted from:\n",
    "#https://medium.com/@dawran6/twitter-scraper-tutorial-with-python-requests-beautifulsoup-and-selenium-part-1-8e76d62ffd68\n",
    "#https://medium.com/@dawran6/twitter-scraper-tutorial-with-python-requests-beautifulsoup-and-selenium-part-2-b38d849b07fe\n",
    "\n",
    "import time\n",
    "import datetime\n",
    "import csv\n",
    "\n",
    "from selenium import webdriver\n",
    "from selenium.webdriver.common.keys import Keys\n",
    "\n",
    "browser = webdriver.Chrome()\n",
    "\n",
    "start_date = \"2015-12-25\"\n",
    "end_date = \"2016-01-05\"\n",
    "\n",
    "#base_url = u'http://twitter.com/search?q='\n",
    "#query = u'SFBARTalert'\n",
    "\n",
    "#url = base_url + query\n",
    "#url = \"https://twitter.com/search?l=&q=from%3Asfbartalert%20since%3A\"+start_date+\"%20until%3A\"+end_date+\"&src=typd&lang=en\"\n",
    "url = \"https://twitter.com/search?q=sfbartalert%20since%3A\"+start_date+\"%20until%3A\"+end_date+\"&src=typd&lang=en\"\n",
    "\n",
    "\n",
    "browser.get(url)\n",
    "time.sleep(1)\n",
    "\n",
    "body = browser.find_element_by_tag_name('body')\n",
    "\n",
    "for _ in range(200):\n",
    "    body.send_keys(Keys.PAGE_DOWN)\n",
    "    time.sleep(0.2)\n",
    "    \n",
    "tweets = browser.find_elements_by_class_name('js-tweet-text')\n",
    "users = browser.find_elements_by_class_name('FullNameGroup')\n",
    "timestamp = browser.find_elements_by_class_name('tweet-timestamp')\n",
    "\n",
    "#print (len(users))\n",
    "#print (len(tweets))\n",
    "#print (len(timestamp))\n",
    "\n",
    "with open('../Data/SFBARTalert_'+start_date+'.csv', 'w') as csvfile:\n",
    "    \n",
    "    spamwriter = csv.writer(csvfile)\n",
    "    spamwriter.writerow([\"index\",\"username\",\"tweet\",\"timestamp\"])\n",
    "    \n",
    "    for index, tweet in enumerate(tweets):\n",
    "        \n",
    "        #if (users[index].text != 'SFBARTalert '):\n",
    "        #    continue\n",
    "        \n",
    "        tweet_timestamp = datetime.datetime.strptime(timestamp[index].get_attribute('title'), '%I:%M %p - %d %b %Y')\n",
    "    \n",
    "        spamwriter.writerow([index,users[index].text.encode('utf-8'),tweet.text.encode('utf-8'),tweet_timestamp])\n",
    "        "
   ]
  },
  {
   "cell_type": "code",
   "execution_count": null,
   "metadata": {
    "collapsed": true
   },
   "outputs": [],
   "source": []
  },
  {
   "cell_type": "code",
   "execution_count": null,
   "metadata": {
    "collapsed": true
   },
   "outputs": [],
   "source": []
  }
 ],
 "metadata": {
  "anaconda-cloud": {},
  "kernelspec": {
   "display_name": "Python [Root]",
   "language": "python",
   "name": "Python [Root]"
  },
  "language_info": {
   "codemirror_mode": {
    "name": "ipython",
    "version": 3
   },
   "file_extension": ".py",
   "mimetype": "text/x-python",
   "name": "python",
   "nbconvert_exporter": "python",
   "pygments_lexer": "ipython3",
   "version": "3.5.2"
  }
 },
 "nbformat": 4,
 "nbformat_minor": 0
}
