{
 "cells": [
  {
   "cell_type": "code",
   "execution_count": 5,
   "metadata": {
    "collapsed": false
   },
   "outputs": [
    {
     "name": "stdout",
     "output_type": "stream",
     "text": [
      "getting tweets before 860132922732556287\n",
      "...400 tweets downloaded so far\n",
      "getting tweets before 849034032851668991\n",
      "...600 tweets downloaded so far\n",
      "getting tweets before 832706197400588287\n",
      "...800 tweets downloaded so far\n",
      "getting tweets before 819924249523748863\n",
      "...1000 tweets downloaded so far\n",
      "getting tweets before 807285971146440703\n",
      "...1200 tweets downloaded so far\n",
      "getting tweets before 791274193119621119\n",
      "...1400 tweets downloaded so far\n",
      "getting tweets before 768676086674632703\n",
      "...1600 tweets downloaded so far\n",
      "getting tweets before 746582560290050047\n",
      "...1800 tweets downloaded so far\n",
      "getting tweets before 724642939104718847\n",
      "...2000 tweets downloaded so far\n",
      "getting tweets before 707009501128433663\n",
      "...2200 tweets downloaded so far\n",
      "getting tweets before 686518954576211967\n",
      "...2400 tweets downloaded so far\n",
      "getting tweets before 666238121873416191\n",
      "...2600 tweets downloaded so far\n",
      "getting tweets before 649610538398416895\n",
      "...2800 tweets downloaded so far\n",
      "getting tweets before 635864206034759679\n",
      "...3000 tweets downloaded so far\n",
      "getting tweets before 622438775973617663\n",
      "...3200 tweets downloaded so far\n",
      "getting tweets before 608357966132191233\n",
      "...3225 tweets downloaded so far\n",
      "getting tweets before 606854843731472383\n",
      "...3225 tweets downloaded so far\n"
     ]
    }
   ],
   "source": [
    "#!/usr/bin/env python\n",
    "# encoding: utf-8\n",
    "\n",
    "#Modifed from https://gist.github.com/yanofsky/5436496\n",
    "#Using Tweepy API to collect user_timeline of most recent 3240 tweets!\n",
    "\n",
    "import tweepy #https://github.com/tweepy/tweepy\n",
    "import csv\n",
    "\n",
    "#Input your own Twitter API credentials \n",
    "access_key = \"\"\n",
    "access_secret = \"\"\n",
    "consumer_key = \"\"\n",
    "consumer_secret = \"\"\n",
    "\n",
    "\n",
    "def get_all_tweets(screen_name):\n",
    "\t#Twitter only allows access to a users most recent 3240 tweets with this method\n",
    "\t\n",
    "\t#authorize twitter, initialize tweepy\n",
    "\tauth = tweepy.OAuthHandler(consumer_key, consumer_secret)\n",
    "\tauth.set_access_token(access_key, access_secret)\n",
    "\tapi = tweepy.API(auth)\n",
    "\t\n",
    "\t#initialize a list to hold all the tweepy Tweets\n",
    "\talltweets = []\t\n",
    "\t\n",
    "\t#make initial request for most recent tweets (200 is the maximum allowed count)\n",
    "\tnew_tweets = api.user_timeline(screen_name = screen_name,count=200)\n",
    "\t\n",
    "\t#save most recent tweets\n",
    "\talltweets.extend(new_tweets)\n",
    "\t\n",
    "\t#save the id of the oldest tweet less one\n",
    "\toldest = alltweets[-1].id - 1\n",
    "\t\n",
    "\t#keep grabbing tweets until there are no tweets left to grab\n",
    "\twhile len(new_tweets) > 0:\n",
    "\t\tprint (\"getting tweets before %s\" % (oldest))\n",
    "\t\t\n",
    "\t\t#all subsiquent requests use the max_id param to prevent duplicates\n",
    "\t\tnew_tweets = api.user_timeline(screen_name = screen_name,count=200,max_id=oldest)\n",
    "\t\t\n",
    "\t\t#save most recent tweets\n",
    "\t\talltweets.extend(new_tweets)\n",
    "\t\t\n",
    "\t\t#update the id of the oldest tweet less one\n",
    "\t\toldest = alltweets[-1].id - 1\n",
    "\t\t\n",
    "\t\tprint (\"...%s tweets downloaded so far\" % (len(alltweets)))\n",
    "\t\n",
    "\t#transform the tweepy tweets into a 2D array that will populate the csv\t\n",
    "\touttweets = [[tweet.id_str, tweet.user.name ,tweet.created_at, tweet.text.encode(\"utf-8\")] for tweet in alltweets]\n",
    "\t#print(outtweets)\n",
    "    \n",
    "\t#write the csv\t\n",
    "\twith open('../Data/%s_tweets.csv' % screen_name, 'w') as f:\n",
    "\t\twriter = csv.writer(f)\n",
    "\t\twriter.writerow([\"id\",\"username\",\"created_at\",\"text\"])\n",
    "\t\twriter.writerows(outtweets)\n",
    "\t\n",
    "\tpass\n",
    "\n",
    "\n",
    "if __name__ == '__main__':\n",
    "\t#pass in the username of the account you want to download\n",
    "\tget_all_tweets(\"SFBARTalert\")"
   ]
  },
  {
   "cell_type": "code",
   "execution_count": null,
   "metadata": {
    "collapsed": false
   },
   "outputs": [],
   "source": []
  },
  {
   "cell_type": "code",
   "execution_count": null,
   "metadata": {
    "collapsed": true
   },
   "outputs": [],
   "source": []
  }
 ],
 "metadata": {
  "kernelspec": {
   "display_name": "Python [Root]",
   "language": "python",
   "name": "Python [Root]"
  },
  "language_info": {
   "codemirror_mode": {
    "name": "ipython",
    "version": 3
   },
   "file_extension": ".py",
   "mimetype": "text/x-python",
   "name": "python",
   "nbconvert_exporter": "python",
   "pygments_lexer": "ipython3",
   "version": "3.5.2"
  }
 },
 "nbformat": 4,
 "nbformat_minor": 0
}
